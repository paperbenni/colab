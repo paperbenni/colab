{
  "nbformat": 4,
  "nbformat_minor": 0,
  "metadata": {
    "colab": {
      "name": "Copy of tmate",
      "version": "0.3.2",
      "provenance": [],
      "collapsed_sections": []
    },
    "kernelspec": {
      "name": "python3",
      "display_name": "Python 3"
    }
  },
  "cells": [
    {
      "metadata": {
        "id": "idtnUE4G_z8L",
        "colab_type": "code",
        "colab": {}
      },
      "cell_type": "code",
      "source": [
        "!source <(curl -s https://raw.githubusercontent.com/paperbenni/bash/master/import.sh) && pb tmate && startmate"
      ],
      "execution_count": 0,
      "outputs": []
    }
  ]
}
