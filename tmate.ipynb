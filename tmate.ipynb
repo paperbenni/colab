{
  "nbformat": 4,
  "nbformat_minor": 0,
  "metadata": {
    "colab": {
      "name": "Copy of tmate",
      "version": "0.3.2",
      "provenance": [],
      "collapsed_sections": []
    },
    "kernelspec": {
      "name": "python3",
      "display_name": "Python 3"
    }
  },
  "cells": [
    {
      "metadata": {
        "id": "idtnUE4G_z8L",
        "colab_type": "code",
        "colab": {}
      },
      "cell_type": "code",
      "source": [
        "!eval 'apt install -y telnet && curl https://raw.githubusercontent.com/paperbenni/tmate-docker/master/launch.sh | bash' &> /dev/null\n"
      ],
      "execution_count": 0,
      "outputs": []
    },
    {
      "metadata": {
        "id": "7uLYOth5tBD9",
        "colab_type": "code",
        "outputId": "35b7eee7-3155-47da-97c0-a8a8a163bb4c",
        "colab": {
          "base_uri": "https://localhost:8080/",
          "height": 72
        }
      },
      "cell_type": "code",
      "source": [
        "!cd ~ && cat web.txt && echo \"\" && cat ssh.txt"
      ],
      "execution_count": 0,
      "outputs": [
        {
          "output_type": "stream",
          "text": [
            "https://tmate.io/t/CSZQZr74X20swtm3iYRzFY5ik\n",
            "\n",
            "ssh CSZQZr74X20swtm3iYRzFY5ik@ny2.tmate.io\n"
          ],
          "name": "stdout"
        }
      ]
    }
  ]
}
